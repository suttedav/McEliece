{
 "cells": [
  {
   "cell_type": "code",
   "execution_count": 5,
   "metadata": {},
   "outputs": [],
   "source": [
    "from sage.all import *"
   ]
  },
  {
   "cell_type": "code",
   "execution_count": 7,
   "metadata": {},
   "outputs": [],
   "source": [
    "import sys\n",
    "sys.path.append('/Users/raban/Documents/QSecure/McEliece')\n",
    "sys.path.append('/Users/raban/Documents/QSecure/McEliece/SageClasses')"
   ]
  },
  {
   "cell_type": "code",
   "execution_count": 10,
   "metadata": {},
   "outputs": [],
   "source": [
    "load(\"/Users/raban/Documents/QSecure/McEliece/SageClasses/GoppaCode.sage\")\n",
    "load(\"/Users/raban/Documents/QSecure/McEliece/SageClasses/McElieceCryptosystem.sage\")\n",
    "load(\"/Users/raban/Documents/QSecure/McEliece/SageClasses/SternsAlgorithm.sage\")"
   ]
  },
  {
   "cell_type": "code",
   "execution_count": 11,
   "metadata": {},
   "outputs": [],
   "source": [
    "# import functions from DataCollectionScript\n",
    "def GetRandomMessage(message_length):\n",
    "       message = matrix(GF(2), 1, message_length);\n",
    "       for i in range(message_length):\n",
    "              message[0,i] = randint(0,1);\n",
    "       return message;\n",
    "def SternsAttack(crypto, encrypted_message, t, p, l):\n",
    "       #Attacker has knowledge of PK and y (and presumably t), and is looking for a codeword of weight w\n",
    "       PK = copy(crypto.public_key());\n",
    "       y = encrypted_message;\n",
    "       #Calculate a parity check matrix for the code G + {0,y}, where y = mG + e\n",
    "       H = (PK.stack(y)).right_kernel().basis_matrix();\n",
    "       w = t;\n",
    "       #Find a weight w codeword\n",
    "       weight_w_codeword = SternsAlgorithm(H, w, p, l);\n",
    "       #Decrypt the message using the codeword found via Stern's Algorithm\n",
    "       decrypted_message = PK.solve_left((y-weight_w_codeword));\n",
    "       return decrypted_message;"
   ]
  },
  {
   "cell_type": "code",
   "execution_count": 13,
   "metadata": {},
   "outputs": [],
   "source": [
    "# Set parameters and initialize polynomial\n",
    "n=2048\n",
    "m=11\n",
    "t=34\n",
    "F_2m = GF(n,'Z');\n",
    "PR_F_2m = PolynomialRing(F_2m,'X');\n",
    "while 1:\n",
    "    irr_poly = PR_F_2m.random_element(t);\n",
    "    if irr_poly.is_irreducible():\n",
    "        break;"
   ]
  },
  {
   "cell_type": "code",
   "execution_count": null,
   "metadata": {},
   "outputs": [],
   "source": [
    "# Set up crypto class object (takes very long...why?)\n",
    "crypto = McElieceCryptosystem(n,m,irr_poly);"
   ]
  },
  {
   "cell_type": "code",
   "execution_count": null,
   "metadata": {},
   "outputs": [],
   "source": [
    "# Encrypt\n",
    "message = GetRandomMessage(crypto.goppa_code().generator_matrix().nrows());\n",
    "encrypted_message = crypto.Encrypt(message);"
   ]
  },
  {
   "cell_type": "code",
   "execution_count": null,
   "metadata": {},
   "outputs": [],
   "source": [
    "# Dectrypt\n",
    "crypto.Decrypt(encrypted_message);"
   ]
  }
 ],
 "metadata": {
  "kernelspec": {
   "display_name": "SageMath 8.2",
   "language": "",
   "name": "sagemath"
  },
  "language_info": {
   "codemirror_mode": {
    "name": "ipython",
    "version": 2
   },
   "file_extension": ".py",
   "mimetype": "text/x-python",
   "name": "python",
   "nbconvert_exporter": "python",
   "pygments_lexer": "ipython2",
   "version": "2.7.14"
  }
 },
 "nbformat": 4,
 "nbformat_minor": 2
}
